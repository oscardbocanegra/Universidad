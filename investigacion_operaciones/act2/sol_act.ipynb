{
 "cells": [
  {
   "cell_type": "markdown",
   "id": "c61ecf97",
   "metadata": {},
   "source": [
    "```markdown\n",
    "### Trabajo: Caso de Aplicación\n",
    "\n",
    "**Objetivos:**  \n",
    "A través de esta actividad podrás articular una gran parte de los conocimientos adquiridos en el curso: construcción de modelos de programación lineal, programación lineal entera y uso de cuadernos de Google Colaboratory y el lenguaje de programación Python.\n",
    "\n",
    "**Descripción de la actividad y pautas de elaboración:**  \n",
    "A continuación, se presenta el caso de aplicación a desarrollar (Anderson et al., 2011).\n",
    "\n",
    "Un sistema de programación matemática, llamado *SilverScreener*, utiliza un modelo de programación entera 0-1 para ayudar a los gerentes de salas de cine a decidir cuáles películas exhibir semanalmente en una sala con múltiples pantallas. Suponga que a la gerencia de *Valley Cinemas* le gustaría investigar el potencial de utilizar un sistema de programación similar para su cadena de salas de cine con múltiples pantallas. *Valley* seleccionó una sala pequeña con dos pantallas para las pruebas piloto y le gustaría elaborar un modelo de programación lineal entera para ayudar a programar películas para las cuatro semanas siguientes. Hay seis cintas disponibles. La primera semana cada película está disponible, la última semana se exhibe cada película y el número máximo de semanas que se puede exhibir se muestra aquí:\n",
    "```"
   ]
  },
  {
   "cell_type": "markdown",
   "id": "267db5dd",
   "metadata": {},
   "source": [
    "```markdown\n",
    "El programa de exhibición general para el cine se compone de programas individuales para cada una de las seis películas. Cada programa debe elaborarse especificando la semana que inicia la exhibición de la película y el número de semanas consecutivas que se exhibirá. Por ejemplo, un programa posible para la película 2 es que inicie en la semana 1 y se proyecte durante dos semanas. La política del cine requiere que una vez iniciada una película debe exhibirse en semanas consecutivas; su proyección no puede suspenderse y reiniciarse de nuevo. Para representar las posibilidades de programación para cada película, se elaboraron las variables de decisión siguientes:\n",
    "\n",
    "x_ijk {█(1 si la película i se programa para iniciar en la semana j y se exhibe por w semanas@0 en caso contrario)} \n",
    "\n",
    "Por ejemplo, x_532=1 significa que el programa seleccionado para la película 5 comenzará en la semana 3 y se exhibirá durante dos semanas. Para cada película se proporciona una variable separada para cada programa posible.\n",
    "\n",
    "a. Tres programas se asocian con la película 1. Liste las variables que representan estos programas.  \n",
    "b. Escriba una restricción que requiera que se seleccione solo un programa para la película 1.  \n",
    "c. Escriba una restricción que requiera que se seleccione solo un programa para la película 5.  \n",
    "d. ¿Qué restringe el número de películas que se pueden exhibir en la semana 1? Escriba una restricción que limite el número de películas seleccionadas para ver en la semana 1.  \n",
    "e. Escriba una restricción que limite el número de películas seleccionadas para ver en la semana 3.\n",
    "```"
   ]
  },
  {
   "cell_type": "markdown",
   "id": "62d9d998",
   "metadata": {},
   "source": [
    "```markdown\n",
    "### Criterios de Evaluación\n",
    "\n",
    "La evaluación se realizará de acuerdo con las siguientes especificaciones:\n",
    "\n",
    "| **Aspecto a Evaluar** | **Porcentaje de Evaluación** |\n",
    "|------------------------|-----------------------------|\n",
    "| Construcción del modelo | 25% |\n",
    "| Solución utilizando Python | 65% |\n",
    "| Conclusiones y presentación del informe en general (ecuaciones, tablas, gráficas, redacción y ortografía) | 10% |\n",
    "\n",
    "**Extensión máxima de la actividad:**  \n",
    "Un documento con una extensión máxima de 15 páginas.\n",
    "\n",
    "**Entrega:**  \n",
    "Como resultado final, se entregará un documento grupal con los siguientes ítems: construcción del modelo, implementación en Google Colaboratory usando Python e interpretación de resultados.\n",
    "```"
   ]
  },
  {
   "cell_type": "markdown",
   "id": "608cfc5f",
   "metadata": {},
   "source": [
    "```markdown\n",
    "En este caso, la película 1 puede exhibirse como máximo durante 2 semanas consecutivas dentro del período total de 4 semanas. Por tanto, las combinaciones posibles de inicio y duración que no exceden las 4 semanas son:\n",
    "\n",
    "- Iniciar en la semana 1 y durar 1 semana.\n",
    "- Iniciar en la semana 1 y durar 2 semanas.\n",
    "- Iniciar en la semana 2 y durar 1 semana.\n",
    "\n",
    "Esto genera las siguientes variables de decisión binarias asociadas a la película 1:\n",
    "\n",
    "- 𝑥₁₁₁ = 1 si la película 1 comienza en la semana 1 y se proyecta durante 1 semana.\n",
    "- 𝑥₁₁₂ = 1 si la película 1 comienza en la semana 1 y se proyecta durante 2 semanas.\n",
    "- 𝑥₁₂₁ = 1 si la película 1 comienza en la semana 2 y se proyecta durante 1 semana.\n",
    "```"
   ]
  },
  {
   "cell_type": "markdown",
   "id": "e7edfb49",
   "metadata": {},
   "source": [
    "```markdown\n",
    "Dado que cada película solo puede ser proyectada una vez dentro del periodo de planificación, es necesario garantizar que solo una de las combinaciones posibles de inicio y duración sea seleccionada.\n",
    "\n",
    "Esto se logra sumando todas las variables binarias asociadas a la película 1 y obligando a que exactamente una de ellas tenga valor 1. Tomando como referencia las tres variables listadas en el literal a:\n",
    "\n",
    "𝑥₁₁₁ + 𝑥₁₁₂ + 𝑥₁₂₁ = 1\n",
    "```"
   ]
  },
  {
   "cell_type": "markdown",
   "id": "5ce00e39",
   "metadata": {},
   "source": [
    "```markdown\n",
    "Esta ecuación representa una restricción de unicidad: obliga al modelo a elegir un único programa de exhibición para la película 1 entre las opciones posibles.\n",
    "\n",
    "Si se hubiesen definido más combinaciones válidas (por ejemplo, 𝑥₁₁₃, 𝑥₁₂₂, etc.), la restricción se adaptaría incluyendo todas ellas, de forma general:\n",
    "\n",
    "∑ⱼ,ₖ 𝑥₁ⱼₖ = 1\n",
    "\n",
    "Donde:\n",
    "\n",
    "- 𝑗 representa la semana de inicio.\n",
    "- 𝑘 representa la duración de la proyección.\n",
    "```"
   ]
  },
  {
   "cell_type": "markdown",
   "id": "a1030f70",
   "metadata": {},
   "source": [
    "```markdown\n",
    "Al igual que en el caso de la película 1, se debe asegurar que solo un programa de exhibición sea elegido para la película 5. Esto implica que, de todas las combinaciones válidas de semana de inicio y duración para esta película, una y solo una puede ser seleccionada.\n",
    "\n",
    "Supongamos que la película 5 tiene las siguientes combinaciones posibles (esto depende de su duración máxima y de las semanas en que puede empezar sin exceder la semana 4):\n",
    "\n",
    "- 𝑥₅₁₁: inicia en semana 1, dura 1 semana  \n",
    "- 𝑥₅₁₂: inicia en semana 1, dura 2 semanas  \n",
    "- 𝑥₅₂₁: inicia en semana 2, dura 1 semana  \n",
    "- 𝑥₅₂₂: inicia en semana 2, dura 2 semanas  \n",
    "- 𝑥₅₃₁: inicia en semana 3, dura 1 semana  \n",
    "\n",
    "Entonces, la restricción correspondiente sería:\n",
    "\n",
    "𝑥₅₁₁ + 𝑥₅₁₂ + 𝑥₅₂₁ + 𝑥₅₂₂ + 𝑥₅₃₁ = 1\n",
    "```"
   ]
  },
  {
   "cell_type": "markdown",
   "id": "d21608f2",
   "metadata": {},
   "source": [
    "```markdown\n",
    "𝑥₅₃₁: película 5, semana 3, duración 1\n",
    "\n",
    "𝑥₅₃₂: película 5, semana 3, duración 2\n",
    "\n",
    "𝑥₅₄₁: película 5, semana 4, duración 1\n",
    "```"
   ]
  },
  {
   "cell_type": "markdown",
   "id": "63e5934a",
   "metadata": {},
   "source": [
    "```markdown\n",
    "𝑥₅₃₁ + 𝑥₅₃₂ + 𝑥₅₄₁ = 1\n",
    "\n",
    "Esto asegura que solo uno de los tres programas válidos y dentro del horizonte de planificación sea seleccionado para la película 5.\n",
    "```"
   ]
  },
  {
   "cell_type": "markdown",
   "id": "cae95796",
   "metadata": {},
   "source": [
    "```markdown\n",
    "| Película | Semana inicio (j) | Duración (k) | Semana final (j + k - 1) | Última semana disponible | Incluye semana 1 | ¿Válida? | Variable |\n",
    "|----------|--------------------|--------------|--------------------------|--------------------------|------------------|----------|----------|\n",
    "| 1        | 1                  | 1            | 1                        | 2                        | ✅                | ✅        | 𝑥₁₁₁     |\n",
    "| 1        | 1                  | 2            | 2                        | 2                        | ✅                | ✅        | 𝑥₁₁₂     |\n",
    "| 2        | 1                  | 1            | 1                        | 3                        | ✅                | ✅        | 𝑥₂₁₁     |\n",
    "| 2        | 1                  | 2            | 2                        | 3                        | ✅                | ✅        | 𝑥₂₁₂     |\n",
    "| 3        | 1                  | 1            | 1                        | 1                        | ✅                | ✅        | 𝑥₃₁₁     |\n",
    "```\n",
    "*Nota:* Esta tabla es de mi autoría y ha sido elaborada de acuerdo con las normas APA (American Psychological Association) para la presentación de datos. "
   ]
  },
  {
   "cell_type": "markdown",
   "id": "80a0f588",
   "metadata": {},
   "source": [
    "```markdown\n",
    "Las variables de decisión mencionadas representan las combinaciones posibles de inicio y duración para las películas dentro del horizonte de planificación. A continuación, se detalla su significado:\n",
    "\n",
    "- 𝑥₁₁₁: Película 1, inicia en la semana 1, dura 1 semana.\n",
    "- 𝑥₁₁₂: Película 1, inicia en la semana 1, dura 2 semanas.\n",
    "- 𝑥₂₁₁: Película 2, inicia en la semana 1, dura 1 semana.\n",
    "- 𝑥₂₁₂: Película 2, inicia en la semana 1, dura 2 semanas.\n",
    "- 𝑥₃₁₁: Película 3, inicia en la semana 1, dura 1 semana.\n",
    "\n",
    "Estas variables son binarias y se utilizan para modelar las decisiones de programación en el modelo de programación lineal entera.\n",
    "```"
   ]
  },
  {
   "cell_type": "markdown",
   "id": "04cd715f",
   "metadata": {},
   "source": [
    "```markdown\n",
    "Las variables 𝑥₁₁₁, 𝑥₁₁₂, 𝑥₂₁₁, 𝑥₂₁₂ y 𝑥₃₁₁ representan las combinaciones posibles de inicio y duración para las películas dentro del horizonte de planificación. Estas variables son binarias y se utilizan para modelar las decisiones de programación en el modelo de programación lineal entera. \n",
    "\n",
    "Cada variable tiene el siguiente significado:\n",
    "\n",
    "- 𝑥₁₁₁: Película 1, inicia en la semana 1, dura 1 semana.\n",
    "- 𝑥₁₁₂: Película 1, inicia en la semana 1, dura 2 semanas.\n",
    "- 𝑥₂₁₁: Película 2, inicia en la semana 1, dura 1 semana.\n",
    "- 𝑥₂₁₂: Película 2, inicia en la semana 1, dura 2 semanas.\n",
    "- 𝑥₃₁₁: Película 3, inicia en la semana 1, dura 1 semana.\n",
    "```"
   ]
  },
  {
   "cell_type": "markdown",
   "id": "24809f89",
   "metadata": {},
   "source": [
    "```markdown\n",
    "La restricción anterior asegura que, en la semana 1, no se proyecten más de dos películas simultáneamente. Esto se logra limitando la suma de las variables binarias asociadas a las combinaciones de inicio y duración que incluyen la semana 1 a un valor máximo de 2.\n",
    "```"
   ]
  },
  {
   "cell_type": "markdown",
   "id": "4d4ca9c3",
   "metadata": {},
   "source": [
    "```markdown\n",
    "𝑥₁₁₁ + 𝑥₁₁₂ + 𝑥₂₁₁ + 𝑥₂₁₂ + 𝑥₃₁₁ ≤ 2\n",
    "```"
   ]
  },
  {
   "cell_type": "markdown",
   "id": "16efa3b5",
   "metadata": {},
   "source": []
  },
  {
   "cell_type": "markdown",
   "id": "a28ac129",
   "metadata": {},
   "source": [
    "```markdown\n",
    "| Película | Inicio (j) | Duración (k) | Final (j+k-1) | Incluye semana 3 | Variable |\n",
    "|----------|------------|--------------|---------------|------------------|----------|\n",
    "| 2        | 2          | 2            | 3             | ✅                | 𝑥₂₂₃     |\n",
    "| 2        | 3          | 1            | 3             | ✅                | 𝑥₂₃₁     |\n",
    "| 4        | 2          | 2            | 3             | ✅                | 𝑥₄₂₃     |\n",
    "| 4        | 3          | 1            | 3             | ✅                | 𝑥₄₃₁     |\n",
    "| 5        | 3          | 1            | 3             | ✅                | 𝑥₅₃₁     |\n",
    "| 5        | 3          | 2            | 4             | ✅                | 𝑥₅₃₂     |\n",
    "| 6        | 3          | 1            | 3             | ✅                | 𝑥₆₃₁     |\n",
    "| 6        | 3          | 2            | 4             | ✅                | 𝑥₆₃₂     |\n",
    "```"
   ]
  },
  {
   "cell_type": "markdown",
   "id": "09f030cd",
   "metadata": {},
   "source": [
    "```markdown\n",
    "La restricción anterior asegura que, en la semana 3, no se proyecten más de dos películas simultáneamente. Esto se logra limitando la suma de las variables binarias asociadas a las combinaciones de inicio y duración que incluyen la semana 3 a un valor máximo de 2:\n",
    "\n",
    "𝑥₂₂₃ + 𝑥₂₃₁ + 𝑥₄₂₃ + 𝑥₄₃₁ + 𝑥₅₃₁ + 𝑥₅₃₂ + 𝑥₆₃₁ + 𝑥₆₃₂ ≤ 2\n",
    "```"
   ]
  },
  {
   "cell_type": "markdown",
   "id": "9c681775",
   "metadata": {},
   "source": [
    "```markdown\n",
    "# Solución utilizando Python\n",
    "```"
   ]
  }
 ],
 "metadata": {
  "kernelspec": {
   "display_name": "ia_ptojects",
   "language": "python",
   "name": "python3"
  },
  "language_info": {
   "codemirror_mode": {
    "name": "ipython",
    "version": 3
   },
   "file_extension": ".py",
   "mimetype": "text/x-python",
   "name": "python",
   "nbconvert_exporter": "python",
   "pygments_lexer": "ipython3",
   "version": "3.12.9"
  }
 },
 "nbformat": 4,
 "nbformat_minor": 5
}
